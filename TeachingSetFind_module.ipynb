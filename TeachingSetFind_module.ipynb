{
 "cells": [
  {
   "cell_type": "code",
   "execution_count": 2,
   "metadata": {},
   "outputs": [],
   "source": [
    "\"\"\"\n",
    "This file defines the findTeachingSet function.\n",
    "\n",
    "Utilizes the linear programming algorithm (MOSEK interior point method) in scipy.\n",
    "Interior point method is O(n^3.5 * L^2 * logL * loglogL), which is polynomial.\n",
    "Note, that L is the length of input in bits, so as n grows, the L terms\n",
    "will act as logn. The run time is still polynomial, but log-log plot between n and runtime\n",
    "would not be linear. \n",
    "\"\"\"\n",
    "\n",
    "import numpy as np\n",
    "from scipy.optimize import linprog\n",
    "import warnings\n",
    "warnings.filterwarnings(\"ignore\", message=\"Ill-conditioned matrix \")\n",
    "warnings.filterwarnings(\"ignore\", message=\"Solving system with option 'cholesky':True failed. \")\n",
    "warnings.filterwarnings(\"ignore\", message=\"Solving system with option 'sym_pos':True failed. \")"
   ]
  },
  {
   "cell_type": "code",
   "execution_count": 13,
   "metadata": {},
   "outputs": [],
   "source": [
    "def findTeachingSet(coordinates, patterns, n, d, homogeneous=False, debug=False):\n",
    "    \"\"\"\n",
    "    In dual space, use linear programming to test if a pattern should be included in the set.\n",
    "    If linear programming has a feasible solution, then include the point in the teaching set.\n",
    "    If linear programming has no feasible solution, then discard the point.\n",
    "    Returns optimal teaching set.\n",
    "    \"\"\"    \n",
    "    teaching_set = [[],[]]\n",
    "    if debug: debug_info = [[],[]]\n",
    "    \n",
    "    if not homogeneous:\n",
    "        coordinates_signed = list(map(lambda x: np.append(x,[-1]), coordinates))\n",
    "    else:\n",
    "        coordinates_signed = coordinates\n",
    "    coordinates_signed = list(map(lambda x,y:x*y, np.array(coordinates_signed), -np.array(patterns)))\n",
    "    \n",
    "    \n",
    "    # linear progamming, but sets parameters such that we essentially only deal with a constrained linear system\n",
    "    def isOptimal(i):\n",
    "        \n",
    "        c = coordinates_signed[i]\n",
    "        A = np.array(coordinates_signed[:i] + coordinates_signed[i+1:])\n",
    "        \n",
    "        b = [0] * (n-1)\n",
    "        \n",
    "        # we include epsilon, a wiggle room, since we want to exclude the points that are \"weakly optimal\"\n",
    "        # meaning in dual space this kind of hyperplane do not form a face of the d-cell\n",
    "        # but instead, they intersect the d-cell only on a vertex (in R2) or edge (in R3), etc\n",
    "        epsilon = 100 #min(abs(c))/100 if min(abs(c)) > 0 else 0.001\n",
    "        #epsilon = np.finfo(np.float32).eps * 100\n",
    "        \n",
    "        try:\n",
    "            res1 = linprog(np.zeros(len(c)), A_ub=A, b_ub=b, A_eq=c.reshape(1,len(c)), b_eq=[0], bounds=(None, None),\n",
    "                     options={'cholesky':True, 'disp':False})\n",
    "            #res2 = linprog(np.zeros(len(c)), A_ub=A, b_ub=b, A_eq=c.reshape(1,len(c)), b_eq=[-epsilon], bounds=(None, None),options={'cholesky':True, 'disp':False})\n",
    "        except:\n",
    "            return False\n",
    "            \n",
    "        if debug: \n",
    "            debug_info[0].append(res1['message'])\n",
    "            debug_info[1].append(res2['message'])\n",
    "        #if (res1['status']==0) and (np.isclose(res1['x'],0).sum() != d): print(res1['x'])\n",
    "        return (res1['status']==0) and (np.isclose(res1['x'],0).sum() != d)\n",
    "    \n",
    "    \n",
    "    for i in range(n):\n",
    "        optimal = isOptimal(i)\n",
    "        if optimal:\n",
    "            teaching_set[0].append(coordinates[i])\n",
    "            teaching_set[1].append(patterns[i])\n",
    "    #print(teaching_set)\n",
    "    if debug:\n",
    "        for i in range(n):\n",
    "            print(coordinates[i], debug_info[0][i], debug_info[1][i])\n",
    "            \n",
    "    return teaching_set"
   ]
  },
  {
   "cell_type": "code",
   "execution_count": null,
   "metadata": {},
   "outputs": [],
   "source": []
  },
  {
   "cell_type": "code",
   "execution_count": null,
   "metadata": {},
   "outputs": [],
   "source": []
  }
 ],
 "metadata": {
  "kernelspec": {
   "display_name": "Python 3",
   "language": "python",
   "name": "python3"
  },
  "language_info": {
   "codemirror_mode": {
    "name": "ipython",
    "version": 3
   },
   "file_extension": ".py",
   "mimetype": "text/x-python",
   "name": "python",
   "nbconvert_exporter": "python",
   "pygments_lexer": "ipython3",
   "version": "3.8.1"
  }
 },
 "nbformat": 4,
 "nbformat_minor": 4
}
